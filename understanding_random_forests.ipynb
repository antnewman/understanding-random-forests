{
  "nbformat": 4,
  "nbformat_minor": 0,
  "metadata": {
    "colab": {
      "name": "understanding-random-forests.ipynb",
      "private_outputs": true,
      "provenance": [],
      "authorship_tag": "ABX9TyOdIDmvLiCMCHWyRo6RIXFN",
      "include_colab_link": true
    },
    "kernelspec": {
      "name": "python3",
      "display_name": "Python 3"
    }
  },
  "cells": [
    {
      "cell_type": "markdown",
      "metadata": {
        "id": "view-in-github",
        "colab_type": "text"
      },
      "source": [
        "<a href=\"https://colab.research.google.com/github/antnewman/understanding-random-forests/blob/main/understanding_random_forests.ipynb\" target=\"_parent\"><img src=\"https://colab.research.google.com/assets/colab-badge.svg\" alt=\"Open In Colab\"/></a>"
      ]
    },
    {
      "cell_type": "markdown",
      "metadata": {
        "id": "qbfjRd-H11SI"
      },
      "source": [
        "# Understanding Random Forests\r\n",
        "\r\n",
        "Prompted by the questions of [Murphy the Squire](https://github.com/murphythesquire), I thought it might be useful to create a Colab Notebook that walks through Random Forests from concept to implementation."
      ]
    },
    {
      "cell_type": "markdown",
      "metadata": {
        "id": "XjwfG1jG21vw"
      },
      "source": [
        "# Decision Trees"
      ]
    },
    {
      "cell_type": "markdown",
      "metadata": {
        "id": "74zE06eV28ZO"
      },
      "source": [
        ""
      ]
    },
    {
      "cell_type": "code",
      "metadata": {
        "id": "iEskPH5rvr7o"
      },
      "source": [
        ""
      ],
      "execution_count": null,
      "outputs": []
    }
  ]
}